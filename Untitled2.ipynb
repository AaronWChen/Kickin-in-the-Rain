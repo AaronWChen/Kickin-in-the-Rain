{
 "cells": [
  {
   "cell_type": "code",
   "execution_count": 1,
   "metadata": {},
   "outputs": [],
   "source": [
    "import requests\n",
    "from datetime import datetime\n",
    "import pytz\n",
    "from pytz import timezone"
   ]
  },
  {
   "cell_type": "code",
   "execution_count": 9,
   "metadata": {},
   "outputs": [
    {
     "name": "stdout",
     "output_type": "stream",
     "text": [
      "clear-night\n"
     ]
    }
   ],
   "source": [
    "key = open('secret/key_info.txt', 'r').read()\n",
    "lat = '52.52'\n",
    "lon = '13.405'\n",
    "time = '18:00:00'\n",
    "date = '2011-11-01'\n",
    "exclus = 'exclude=alerts,daily,minutely,hourly,flags'\n",
    "req_str = f'https://api.darksky.net/forecast/{key}/{lat},{lon},{date}T{time}?{exclus}'\n",
    "resp = requests.get(req_str)\n",
    "\n",
    "if resp.status_code == 200:\n",
    "    response_dict = resp.json()\n",
    "    print(response_dict['currently']['icon'])\n",
    "#     if response_dict['currently']['icon'] == 'rain':\n",
    "#         result = 1\n",
    "#     else:\n",
    "#         result = 0\n",
    "\n",
    "else:\n",
    "    print(\"Error, unable to retrieve. Server response code is: \", resp.status_code)"
   ]
  },
  {
   "cell_type": "code",
   "execution_count": null,
   "metadata": {},
   "outputs": [],
   "source": []
  }
 ],
 "metadata": {
  "kernelspec": {
   "display_name": "Python [conda env:learn-env] *",
   "language": "python",
   "name": "conda-env-learn-env-py"
  },
  "language_info": {
   "codemirror_mode": {
    "name": "ipython",
    "version": 3
   },
   "file_extension": ".py",
   "mimetype": "text/x-python",
   "name": "python",
   "nbconvert_exporter": "python",
   "pygments_lexer": "ipython3",
   "version": "3.6.6"
  }
 },
 "nbformat": 4,
 "nbformat_minor": 2
}
